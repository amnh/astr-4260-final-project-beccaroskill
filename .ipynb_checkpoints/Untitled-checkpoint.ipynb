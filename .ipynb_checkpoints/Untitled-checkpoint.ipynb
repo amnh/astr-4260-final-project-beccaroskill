{
 "cells": [
  {
   "cell_type": "markdown",
   "id": "2f40c646-43aa-4303-a5dc-a6ac558d5de9",
   "metadata": {},
   "source": [
    "Download data for KOIs Q1-17 DR24 from [exoplanetarchive](https://exoplanetarchive.ipac.caltech.edu/cgi-bin/TblView/nph-tblView?app=ExoTbls&config=q1_q17_dr24_tce). These will be our \"targets\" when we search lighturve data."
   ]
  },
  {
   "cell_type": "code",
   "execution_count": 1,
   "id": "16d51187-a5f5-445b-b120-4bfd8a949a94",
   "metadata": {},
   "outputs": [
    {
     "data": {
      "text/plain": [
       "12669"
      ]
     },
     "execution_count": 1,
     "metadata": {},
     "output_type": "execute_result"
    }
   ],
   "source": [
    "import csv\n",
    "\n",
    "kepler_csv_file = \"astronet/data/q1_q17_dr24_tce.csv\"\n",
    "\n",
    "# Read Kepler targets.\n",
    "kepids = set()\n",
    "with open(kepler_csv_file) as f:\n",
    "    reader = csv.DictReader(row for row in f if not row.startswith(\"#\"))\n",
    "    for row in reader:\n",
    "        kepids.add(row[\"kepid\"])\n",
    "\n",
    "num_kepids = len(kepids)\n",
    "num_kepids"
   ]
  },
  {
   "cell_type": "code",
   "execution_count": 2,
   "id": "10bf8ed5-947d-4718-8188-973781efd078",
   "metadata": {},
   "outputs": [],
   "source": [
    "import warnings\n",
    "warnings.filterwarnings(\"ignore\")"
   ]
  },
  {
   "cell_type": "code",
   "execution_count": null,
   "id": "5deba177-55ce-4793-a006-112a73db3740",
   "metadata": {},
   "outputs": [
    {
     "name": "stderr",
     "output_type": "stream",
     "text": [
      "  0%|          | 1/12669 [00:19<67:10:14, 19.09s/it]"
     ]
    }
   ],
   "source": [
    "import numpy as np\n",
    "import pandas as pd\n",
    "import lightkurve as lk\n",
    "from tqdm import tqdm\n",
    "\n",
    "quarters_downloaded = {k: [] for k in kepids}\n",
    "\n",
    "# quarter 1-17\n",
    "for i, kepid in tqdm(enumerate(kepids), total=len(kepids)):\n",
    "    for quarter in range(18):\n",
    "        try:\n",
    "            lcs = lk.search_lightcurve(mission=\"Kepler\", target=kepid, quarter=quarter).download_all()\n",
    "            time = lcs[0].time.value # get the time of each observation\n",
    "            flux = np.array(lcs[0].flux.value.data) # get the flux\n",
    "            quarter_df = pd.DataFrame(zip(time, flux), columns=['time', 'flux'])\n",
    "            quarter_df.to_csv('astronet/data/kepler/kic{}_q{}.csv'.format(kepid, quarter))\n",
    "            quarters_downloaded[kepid].append(quarter)\n",
    "        except Exception:\n",
    "            pass"
   ]
  }
 ],
 "metadata": {
  "kernelspec": {
   "display_name": "Python 3",
   "language": "python",
   "name": "python3"
  },
  "language_info": {
   "codemirror_mode": {
    "name": "ipython",
    "version": 3
   },
   "file_extension": ".py",
   "mimetype": "text/x-python",
   "name": "python",
   "nbconvert_exporter": "python",
   "pygments_lexer": "ipython3",
   "version": "3.8.12"
  }
 },
 "nbformat": 4,
 "nbformat_minor": 5
}
